{
 "cells": [
  {
   "cell_type": "code",
   "execution_count": 1,
   "metadata": {},
   "outputs": [],
   "source": [
    "import os\n",
    "import time\n",
    "import random\n",
    "import numpy as np\n",
    "import pandas as pd\n",
    "from fastprogress import master_bar, progress_bar\n",
    "\n",
    "import cv2\n",
    "from PIL import Image\n",
    "\n",
    "import torch\n",
    "import torch.nn as nn\n",
    "import torch.nn.functional as F\n",
    "import torch.optim as optim\n",
    "from torch.autograd import Variable\n",
    "from torchvision import datasets, transforms, models\n",
    "from  torch.utils.data import DataLoader, Dataset\n",
    "import torch.optim.lr_scheduler as lr_scheduler\n",
    "# from CenterLoss import CenterLoss\n",
    "from torch.autograd.function import Function\n",
    "\n",
    "from sklearn.model_selection import KFold\n",
    "from sklearn.metrics import recall_score\n",
    "\n",
    "%matplotlib inline\n",
    "import matplotlib.pyplot as plt"
   ]
  },
  {
   "cell_type": "code",
   "execution_count": 2,
   "metadata": {},
   "outputs": [],
   "source": [
    "SEED = 2020\n",
    "EPOCH = 5\n",
    "IMG_SIZE = 128\n",
    "NUM_CLASSES = 10\n",
    "BATCH_SIZE = 128  # 28だとFeature Mapの出力が 512 x 1 x 1となってしまい、Grad-CAMがうまく動作しない\n",
    "\n",
    "device = torch.device(\"cuda:0\" if torch.cuda.is_available() else \"cpu\")"
   ]
  },
  {
   "cell_type": "code",
   "execution_count": 3,
   "metadata": {},
   "outputs": [],
   "source": [
    "def seed_torch(seed=42):\n",
    "    random.seed(seed)\n",
    "    os.environ[\"PYTHONHASHSEED\"] = str(seed)\n",
    "    np.random.seed(seed)\n",
    "    torch.manual_seed(seed)\n",
    "    torch.cuda.manual_seed_all(seed)\n",
    "    torch.backends.cudnn.deterministic = True\n",
    "    \n",
    "seed_torch(SEED)"
   ]
  },
  {
   "cell_type": "code",
   "execution_count": 4,
   "metadata": {},
   "outputs": [],
   "source": [
    "class MnistDataset(Dataset):\n",
    "    \n",
    "    def __init__(self, df, n_channels=1, is_train=True, transforms=None):\n",
    "        self.data = df.iloc[:, 1:].values\n",
    "#         self.fnames = df['image_id'].values\n",
    "        self.n_channels = n_channels\n",
    "        self.labels = df['label'].values\n",
    "        self.transforms = transforms\n",
    "        self.is_train = is_train\n",
    "        \n",
    "    def __len__(self):\n",
    "        return len(self.data)\n",
    "    \n",
    "    def __getitem__(self, idx):\n",
    "        image = self.data[idx, :].reshape(28, 28).astype(np.uint8)\n",
    "        image = (image*(255.0/image.max())).astype(np.uint8)\n",
    "        image = cv2.resize(image, dsize=(IMG_SIZE, IMG_SIZE))\n",
    "        \n",
    "        if self.transforms:\n",
    "            if self.transforms.albumentations:\n",
    "                aug = Augmentation().get_augmentation(self.transforms.albumentations)\n",
    "                augmented = aug(image=image)\n",
    "                image = augmented['image'].astype(np.float32)\n",
    "\n",
    "        image = image.reshape(1, IMG_SIZE, IMG_SIZE).astype(np.float32)\n",
    "        if self.n_channels > 1:\n",
    "            image = np.concatenate([image for i in range(self.n_channels)], axis=0)\n",
    "\n",
    "        if self.is_train:\n",
    "            label = self.labels[idx]\n",
    "            return image, label\n",
    "        else:\n",
    "            return image"
   ]
  },
  {
   "cell_type": "code",
   "execution_count": 5,
   "metadata": {},
   "outputs": [],
   "source": [
    "train_df = pd.read_csv('../data/input/train.csv')"
   ]
  },
  {
   "cell_type": "code",
   "execution_count": 6,
   "metadata": {
    "scrolled": true
   },
   "outputs": [],
   "source": [
    "folds = pd.DataFrame(index=train_df.index.values)\n",
    "folds['fold_0'] = 0\n",
    "\n",
    "fold = KFold(n_splits=5, shuffle=True, random_state=SEED)\n",
    "for fold_, (trn_idx, val_idx) in enumerate(fold.split(train_df)):\n",
    "    folds.loc[val_idx, f'fold_{fold_}'] = 0.2\n",
    "    folds.loc[trn_idx, f'fold_{fold_}'] = 0"
   ]
  },
  {
   "cell_type": "code",
   "execution_count": 7,
   "metadata": {},
   "outputs": [],
   "source": [
    "fold_num = 0\n",
    "x_trn = train_df[folds[f'fold_{fold_num}'] > 0]\n",
    "x_val = train_df[folds[f'fold_{fold_num}'] == 0]\n",
    "\n",
    "y_val = x_val['label']"
   ]
  },
  {
   "cell_type": "code",
   "execution_count": 8,
   "metadata": {},
   "outputs": [],
   "source": [
    "train_dataset = MnistDataset(x_trn, n_channels=3, transforms=None)\n",
    "train_loader = DataLoader(train_dataset, batch_size=BATCH_SIZE, shuffle=True, num_workers=4)\n",
    "\n",
    "valid_dataset = MnistDataset(x_val, n_channels=3, transforms=None)\n",
    "valid_loader = DataLoader(valid_dataset, batch_size=BATCH_SIZE, shuffle=False, num_workers=4)"
   ]
  },
  {
   "cell_type": "code",
   "execution_count": 9,
   "metadata": {},
   "outputs": [],
   "source": [
    "# Model\n",
    "model = models.resnet18().to(device)\n",
    "model.conv1 = nn.Conv2d(3, 64, kernel_size=(7, 7), stride=(2, 2), padding=(3, 3), bias=False).to(device)\n",
    "model.fc = nn.Linear(in_features=512, out_features=NUM_CLASSES, bias=True).to(device)"
   ]
  },
  {
   "cell_type": "code",
   "execution_count": 10,
   "metadata": {},
   "outputs": [],
   "source": [
    "criterion = nn.CrossEntropyLoss()\n",
    "\n",
    "optimizer = optim.SGD(model.parameters(), lr=0.001, momentum=0.9, weight_decay=0.0005)\n",
    "sheduler = lr_scheduler.StepLR(optimizer, 20, gamma=0.8)"
   ]
  },
  {
   "cell_type": "code",
   "execution_count": 11,
   "metadata": {
    "scrolled": true
   },
   "outputs": [
    {
     "data": {
      "text/html": [
       "Epoch 1 - avg_train_loss: 1.9981  avg_val_loss: 1.5792 val_score: 0.6610 time: 11s<p>Epoch 2 - avg_train_loss: 1.2469  avg_val_loss: 0.9172 val_score: 0.8348 time: 11s<p>Epoch 3 - avg_train_loss: 0.7300  avg_val_loss: 0.5573 val_score: 0.8873 time: 11s<p>Epoch 4 - avg_train_loss: 0.4312  avg_val_loss: 0.3519 val_score: 0.9263 time: 12s<p>Epoch 5 - avg_train_loss: 0.2825  avg_val_loss: 0.2642 val_score: 0.9421 time: 11s"
      ],
      "text/plain": [
       "<IPython.core.display.HTML object>"
      ]
     },
     "metadata": {},
     "output_type": "display_data"
    },
    {
     "name": "stdout",
     "output_type": "stream",
     "text": [
      "\n",
      "\n",
      "===================================\n",
      "\n",
      "CV: 0.9420794535767782\n",
      "\n",
      "BEST EPOCH: 5\n",
      "BEST RECALL: 0.9420794535767782\n",
      "\n",
      "===================================\n",
      "\n",
      "\n"
     ]
    }
   ],
   "source": [
    "best_epoch = -1\n",
    "best_val_score = -np.inf\n",
    "mb = master_bar(range(EPOCH))\n",
    "\n",
    "train_loss_list = []\n",
    "val_loss_list = []\n",
    "val_score_list = []\n",
    "\n",
    "counter = 0\n",
    "\n",
    "for epoch in mb:\n",
    "    start_time = time.time()\n",
    "    model.train()\n",
    "    avg_loss = 0.\n",
    "\n",
    "    for images, labels in progress_bar(train_loader, parent=mb):\n",
    "        images = Variable(images).to(device)\n",
    "        labels = Variable(labels).to(device)\n",
    "        \n",
    "        preds = model(images.float())\n",
    "        loss = criterion(preds, labels)\n",
    "\n",
    "        optimizer.zero_grad()\n",
    "        loss.backward()\n",
    "        optimizer.step()\n",
    "        avg_loss += loss.item() / len(train_loader)\n",
    "    train_loss_list.append(avg_loss)\n",
    "\n",
    "    \n",
    "\n",
    "    model.eval()\n",
    "    valid_preds = np.zeros((len(valid_loader.dataset), NUM_CLASSES))\n",
    "    avg_val_loss = 0.\n",
    "\n",
    "    for i, (images, labels) in enumerate(valid_loader):\n",
    "        images = Variable(images).to(device)\n",
    "        labels = Variable(labels).to(device)\n",
    "\n",
    "        preds = model(images.float())\n",
    "\n",
    "        loss = criterion(preds, labels)\n",
    "\n",
    "        valid_preds[i * BATCH_SIZE: (i + 1) * BATCH_SIZE] = preds.cpu().detach().numpy()\n",
    "        avg_val_loss += loss.item() / len(valid_loader)\n",
    "\n",
    "    val_score = recall_score(y_val, np.argmax(valid_preds, axis=1), average='macro')\n",
    "\n",
    "    val_loss_list.append(avg_val_loss)\n",
    "    val_score_list.append(val_score)\n",
    "        \n",
    "    elapsed = time.time() - start_time\n",
    "    mb.write(f'Epoch {epoch+1} - avg_train_loss: {avg_loss:.4f}  avg_val_loss: {avg_val_loss:.4f} val_score: {val_score:.4f} time: {elapsed:.0f}s')\n",
    "\n",
    "    if best_val_score < val_score:\n",
    "        best_epoch = epoch + 1\n",
    "        best_val_score = val_score\n",
    "        best_valid_preds = valid_preds\n",
    "        best_model = model.state_dict()\n",
    "        counter = 0\n",
    "        \n",
    "    counter += 1\n",
    "    if counter == 100:\n",
    "        break\n",
    "\n",
    "print('\\n\\n===================================\\n')\n",
    "print(f'CV: {best_val_score}\\n')\n",
    "print(f'BEST EPOCH: {best_epoch}')\n",
    "print(f'BEST RECALL: {best_val_score}')\n",
    "print('\\n===================================\\n\\n')"
   ]
  },
  {
   "cell_type": "markdown",
   "metadata": {},
   "source": [
    " "
   ]
  },
  {
   "cell_type": "markdown",
   "metadata": {},
   "source": [
    "### Source: https://qiita.com/sasayabaku/items/fd8923cf0e769104cc95\n",
    "### Source: https://github.com/eclique/pytorch-gradcam/blob/master/gradcam.ipynb"
   ]
  },
  {
   "cell_type": "code",
   "execution_count": 12,
   "metadata": {},
   "outputs": [],
   "source": [
    "class Flatten(nn.Module):\n",
    "    def __init__(self):\n",
    "        super(Flatten, self).__init__()\n",
    "\n",
    "    def forward(self, x):\n",
    "        return x.view(x.size(0), -1)"
   ]
  },
  {
   "cell_type": "code",
   "execution_count": 13,
   "metadata": {},
   "outputs": [],
   "source": [
    "features_fn = nn.Sequential(*list(model.children())[:-2])\n",
    "classifier_fn = nn.Sequential(*(list(model.children())[-2:-1] + [Flatten()] + list(model.children())[-1:]))"
   ]
  },
  {
   "cell_type": "code",
   "execution_count": 14,
   "metadata": {},
   "outputs": [],
   "source": [
    "model = model.eval()\n",
    "model = model.to(device)"
   ]
  },
  {
   "cell_type": "code",
   "execution_count": 15,
   "metadata": {},
   "outputs": [],
   "source": [
    "def GradCam(img, c, feature_fn, classifier_fn):\n",
    "    feats = feature_fn(img)  # Feature Map(avgpoolの手前までの出力tensor)\n",
    "    _, N, H, W = feats.size() # featsの出力size\n",
    "    out = classifier_fn(feats)  # 分類機にかける\n",
    "    c_score = out[0, c]  # 最終出力結果の最大スコアを取得\n",
    "    grads = torch.autograd.grad(c_score, feats)  # c_scoreに格納されているgrad_fn（微分関数）にfeatsを代入して、勾配を計算\n",
    "    w = grads[0][0].mean(-1).mean(-1)  # Global Average Pooling\n",
    "    sal = torch.matmul(w, feats.view(N, H*W))  # 内積を計算  512 x (512, 16)\n",
    "    sal = F.relu(sal)  # 負値を0に\n",
    "    sal = sal.view(H, W).cpu().detach().numpy()  # 4 x 4に変換\n",
    "    sal = np.maximum(sal, 0)\n",
    "    return sal"
   ]
  },
  {
   "cell_type": "code",
   "execution_count": 165,
   "metadata": {
    "scrolled": true
   },
   "outputs": [
    {
     "data": {
      "text/plain": [
       "<matplotlib.image.AxesImage at 0x7f0b67292400>"
      ]
     },
     "execution_count": 165,
     "metadata": {},
     "output_type": "execute_result"
    },
    {
     "data": {
      "image/png": "[encoded data removed]",
      "text/plain": [
       "<Figure size 432x288 with 1 Axes>"
      ]
     },
     "metadata": {
      "needs_background": "light"
     },
     "output_type": "display_data"
    }
   ],
   "source": [
    "plt.imshow(valid_loader.dataset[126][0][0, :, :], cmap='gray')"
   ]
  },
  {
   "cell_type": "code",
   "execution_count": 162,
   "metadata": {},
   "outputs": [],
   "source": [
    "input_index = 126\n",
    "input_data = valid_loader.dataset[input_index][0]\n",
    "input_data = torch.tensor(input_data.reshape(1, input_data.shape[0], input_data.shape[1], input_data.shape[2])).to(device)"
   ]
  },
  {
   "cell_type": "code",
   "execution_count": 163,
   "metadata": {
    "scrolled": true
   },
   "outputs": [],
   "source": [
    "pp, cc = torch.topk(nn.Softmax(dim=1)(model(input_data)), 3)\n",
    "sal = GradCam(input_data.to(device), cc[0][2], features_fn, classifier_fn)\n",
    "img = input_data.permute(0, 2, 3, 1).view(input_data.shape[2], input_data.shape[3], input_data.shape[1]).cpu().numpy()\n",
    "img_sal = Image.fromarray(sal).resize(img.shape[0:2], resample=Image.LINEAR)"
   ]
  },
  {
   "cell_type": "code",
   "execution_count": 170,
   "metadata": {},
   "outputs": [],
   "source": [
    "img = valid_loader.dataset[126][0][0, :, :]"
   ]
  },
  {
   "cell_type": "code",
   "execution_count": 172,
   "metadata": {},
   "outputs": [
    {
     "data": {
      "text/plain": [
       "<matplotlib.image.AxesImage at 0x7f0b66fc5828>"
      ]
     },
     "execution_count": 172,
     "metadata": {},
     "output_type": "execute_result"
    },
    {
     "data": {
      "image/png": "[encoded data removed]",
      "text/plain": [
       "<Figure size 864x360 with 2 Axes>"
      ]
     },
     "metadata": {
      "needs_background": "light"
     },
     "output_type": "display_data"
    }
   ],
   "source": [
    "fig, (ax1, ax2) = plt.subplots(1, 2, figsize=(12, 5))\n",
    "\n",
    "ax1.imshow(img, cmap='gray')\n",
    "\n",
    "ax2.imshow(img, cmap='gray')\n",
    "ax2.imshow(np.array(img_sal), alpha=0.5, cmap='jet')\n",
    "# plt.colorbar()"
   ]
  },
  {
   "cell_type": "code",
   "execution_count": null,
   "metadata": {},
   "outputs": [],
   "source": []
  }
 ],
 "metadata": {
  "kernelspec": {
   "display_name": "Python 3",
   "language": "python",
   "name": "python3"
  },
  "language_info": {
   "codemirror_mode": {
    "name": "ipython",
    "version": 3
   },
   "file_extension": ".py",
   "mimetype": "text/x-python",
   "name": "python",
   "nbconvert_exporter": "python",
   "pygments_lexer": "ipython3",
   "version": "3.7.2"
  }
 },
 "nbformat": 4,
 "nbformat_minor": 2
}
